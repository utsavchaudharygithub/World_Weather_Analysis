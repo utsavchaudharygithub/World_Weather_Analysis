{
 "cells": [
  {
   "cell_type": "code",
   "execution_count": 35,
   "id": "4fda1f2e",
   "metadata": {},
   "outputs": [],
   "source": [
    "#import the random module.\n",
    "import random\n",
    "# Import the NumPy module\n",
    "import numpy as np\n",
    "#Import timeit\n",
    "import timeit\n",
    "# Import linear regression from the SciPy stats module.\n",
    "from scipy.stats import linregress"
   ]
  },
  {
   "cell_type": "code",
   "execution_count": 36,
   "id": "fc38e442",
   "metadata": {},
   "outputs": [
    {
     "data": {
      "text/plain": [
       "88"
      ]
     },
     "execution_count": 36,
     "metadata": {},
     "output_type": "execute_result"
    }
   ],
   "source": [
    "random.randint(-90, 90)\n"
   ]
  },
  {
   "cell_type": "code",
   "execution_count": 37,
   "id": "f6367f1e",
   "metadata": {},
   "outputs": [
    {
     "data": {
      "text/plain": [
       "0.975601303751466"
      ]
     },
     "execution_count": 37,
     "metadata": {},
     "output_type": "execute_result"
    }
   ],
   "source": [
    "random.random()"
   ]
  },
  {
   "cell_type": "code",
   "execution_count": 38,
   "id": "8dc6a435",
   "metadata": {},
   "outputs": [],
   "source": [
    "x=1\n",
    "latitudes = []\n",
    "while x<11:\n",
    "        random_lat= random.randint (-90, 89) + random. random ()\n",
    "        latitudes.append (random_lat)\n",
    "        x +=1\n",
    "        "
   ]
  },
  {
   "cell_type": "code",
   "execution_count": 39,
   "id": "de284191",
   "metadata": {},
   "outputs": [
    {
     "data": {
      "text/plain": [
       "[64.74821367550653,\n",
       " 65.16296577848007,\n",
       " 89.77194649462697,\n",
       " -37.72347385768531,\n",
       " 49.79763411923396,\n",
       " -48.45296296049833,\n",
       " -81.26459455946866,\n",
       " 32.35195220898411,\n",
       " -14.899035124018464,\n",
       " 40.93278139173274]"
      ]
     },
     "execution_count": 39,
     "metadata": {},
     "output_type": "execute_result"
    }
   ],
   "source": [
    "latitudes"
   ]
  },
  {
   "cell_type": "code",
   "execution_count": 40,
   "id": "b0183f7c",
   "metadata": {},
   "outputs": [
    {
     "data": {
      "text/plain": [
       "86"
      ]
     },
     "execution_count": 40,
     "metadata": {},
     "output_type": "execute_result"
    }
   ],
   "source": [
    "random.randrange (-90, 90, step=1)"
   ]
  },
  {
   "cell_type": "code",
   "execution_count": 41,
   "id": "71497a0e",
   "metadata": {},
   "outputs": [
    {
     "data": {
      "text/plain": [
       "array([ -6.27835724, -56.47135345,  54.79146286, -66.24240405,\n",
       "        46.94280447,  -2.91410902,  52.47543222, -21.80384588,\n",
       "       -63.27772863,  11.98205746,  78.73816333, -50.39596163,\n",
       "        62.19876179,   8.8175769 ,  47.84374073,   9.87721026,\n",
       "       -72.29466095, -39.01722758, -31.87852673, -37.35783187,\n",
       "        63.87919223, -17.90828076,  73.76157253, -63.83385866,\n",
       "        27.95186918,  61.73735939, -48.26426767, -72.44318138,\n",
       "        48.85879125, -86.91561085,   6.11662587,  34.00571535,\n",
       "       -80.7916208 ,  45.38693901, -25.08614804,  -7.61669026,\n",
       "       -85.54892667, -21.33591164, -75.83761367,  48.37230147,\n",
       "        85.4810143 ,  52.33614152, -56.85927356, -35.12196216,\n",
       "        -5.49460807,  54.77534599, -15.10215491,  76.50242567,\n",
       "       -36.92120694,  33.71417271])"
      ]
     },
     "execution_count": 41,
     "metadata": {},
     "output_type": "execute_result"
    }
   ],
   "source": [
    "np.random.uniform (-90.000, 90.000, size=50)"
   ]
  },
  {
   "cell_type": "code",
   "execution_count": null,
   "id": "4ecafee1",
   "metadata": {},
   "outputs": [],
   "source": []
  },
  {
   "cell_type": "code",
   "execution_count": 42,
   "id": "9058a9f5",
   "metadata": {},
   "outputs": [
    {
     "name": "stdout",
     "output_type": "stream",
     "text": [
      "13.4 µs ± 207 ns per loop (mean ± std. dev. of 7 runs, 100000 loops each)\n"
     ]
    }
   ],
   "source": [
    "%timeit np.random.uniform (-90.000, 90.000, size=1500)"
   ]
  },
  {
   "cell_type": "code",
   "execution_count": 43,
   "id": "fb8b0f2a",
   "metadata": {},
   "outputs": [
    {
     "name": "stdout",
     "output_type": "stream",
     "text": [
      "1.31 ms ± 22 µs per loop (mean ± std. dev. of 7 runs, 1000 loops each)\n"
     ]
    }
   ],
   "source": [
    "def latitudes(size):\n",
    "    latitudes = []\n",
    "    x = 0\n",
    "    while x < (size):\n",
    "        random_lat = random.randint(-90, 90) + random.random()\n",
    "        latitudes.append(random_lat)\n",
    "        x += 1\n",
    "    return latitudes\n"
   ]
  },
  {
   "cell_type": "code",
   "execution_count": 45,
   "id": "1e9bad25",
   "metadata": {},
   "outputs": [
    {
     "name": "stdout",
     "output_type": "stream",
     "text": [
      "1.34 ms ± 21.6 µs per loop (mean ± std. dev. of 7 runs, 1000 loops each)\n"
     ]
    }
   ],
   "source": [
    "# Call the function with 1500.\n",
    "%timeit latitudes(1500)"
   ]
  },
  {
   "cell_type": "code",
   "execution_count": null,
   "id": "d722aa6f",
   "metadata": {},
   "outputs": [],
   "source": [
    "# Create an equal number of latitudes and temperatures.\n",
    "lats = [42.5, 43.9, 8.1, 36.8, 79.9, 69.1, 25.7, 15.3, 12.7, 64.5]\n",
    "temps = [80.5, 75.3, 90.9, 90.0, 40.4, 62.3, 85.4, 79.6, 72.5, 72.0]"
   ]
  },
  {
   "cell_type": "code",
   "execution_count": null,
   "id": "09ecdd89",
   "metadata": {},
   "outputs": [],
   "source": [
    "# Perform linear regression.\n",
    "(slope, intercept, r_value, p_value, std_err) = linregress(lats, temps)\n",
    "# Get the equation of the line.\n",
    "line_eq = \"y = \" + str(round(slope,2)) + \"x + \" + str(round(intercept,2))\n",
    "print(line_eq)\n",
    "print(f\"The p-value is: {p_value:.3f}\")"
   ]
  },
  {
   "cell_type": "code",
   "execution_count": null,
   "metadata": {},
   "outputs": [],
   "source": [
    "# Calculate the regression line \"y values\" from the slope and intercept.\n",
    "regress_values = [(lat * slope + intercept) for lat in lats]\n"
   ]
  },
  {
   "cell_type": "code",
   "execution_count": null,
   "metadata": {},
   "outputs": [],
   "source": [
    "# Import Matplotlib.\n",
    "import matplotlib.pyplot as plt\n",
    "# Create a scatter plot of the x and y values.\n",
    "plt.scatter(lats,temps)\n",
    "# Plot the regression line with the x-values and the y coordinates based on the intercept and slope.\n",
    "plt.plot(lats,regress_values,\"r\")\n",
    "# Annotate the text for the line equation and add its coordinates.\n",
    "plt.annotate(line_eq, (10,40), fontsize=15, color=\"red\")\n",
    "plt.xlabel('Latitude')\n",
    "plt.ylabel('Temp')\n",
    "plt.show()"
   ]
  }
 ],
 "metadata": {
  "kernelspec": {
   "display_name": "Python 3 (ipykernel)",
   "language": "python",
   "name": "python3"
  },
  "language_info": {
   "codemirror_mode": {
    "name": "ipython",
    "version": 3
   },
   "file_extension": ".py",
   "mimetype": "text/x-python",
   "name": "python",
   "nbconvert_exporter": "python",
   "pygments_lexer": "ipython3",
   "version": "3.8.8"
  }
 },
 "nbformat": 4,
 "nbformat_minor": 5
}
